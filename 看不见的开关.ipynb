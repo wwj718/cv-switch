{
 "cells": [
  {
   "cell_type": "markdown",
   "metadata": {},
   "source": [
    "# week14 创建你的 AI 应用\n"
   ]
  },
  {
   "cell_type": "markdown",
   "metadata": {},
   "source": [
    "## AI 与现实世界的交互\n",
    "### 看不见的开关\n",
    "AI & IoT\n",
    "\n",
    "<!--按下看不见的开关，打开电灯\n",
    "\n",
    "如果食指(id 8)和拇指(id 4)足够接近就触发开关-->"
   ]
  },
  {
   "cell_type": "markdown",
   "metadata": {},
   "source": [
    "#### 使用 Python 控制物联网设备\n",
    "使用 Python 和英荔龙眼盒交互"
   ]
  },
  {
   "cell_type": "code",
   "execution_count": 1,
   "metadata": {},
   "outputs": [],
   "source": [
    "import requests\n",
    "import functools\n",
    "import threading\n",
    "import time\n",
    "\n",
    "thingtalk_url = f'https://2ecf620.wormhole.longan.link'\n",
    "\n",
    "def get_token():\n",
    "    # 获取访问凭证\n",
    "    url = f\"{thingtalk_url}/auth/jwt/login\"\n",
    "    data = {\n",
    "        \"username\": \"admin\",\n",
    "        \"password\": \"20130530\"\n",
    "    }\n",
    "    res = requests.post(url=url, data=data)\n",
    "    if res.status_code != 200:\n",
    "        raise Exception(res.status_code)\n",
    "    token = res.json()[\"access_token\"]\n",
    "    return token\n",
    "\n",
    "token = get_token()\n",
    "\n",
    "# print(f\"token: {token}\")\n",
    "\n",
    "def set_properties(thing_id, prop, data):\n",
    "    # 设置设备状态\n",
    "    url = f\"{thingtalk_url}/things/{thing_id}/properties/{prop}\"\n",
    "    headers = {\"Authorization\": f\"Bearer {token}\"}\n",
    "    res = requests.put(url=url, headers=headers, json=data)\n",
    "    # print(res.text)\n",
    "    if res.status_code != 200:\n",
    "        raise Exception(res.text)"
   ]
  },
  {
   "cell_type": "code",
   "execution_count": 2,
   "metadata": {},
   "outputs": [
    {
     "data": {
      "text/plain": [
       "<Thread(1641542801.231918, started daemon 123145520177152)>"
      ]
     },
     "execution_count": 2,
     "metadata": {},
     "output_type": "execute_result"
    }
   ],
   "source": [
    "'''\n",
    "1号 0x00124b00210b7ad9\n",
    "2号 0x00124b00210b7c9c\n",
    "3号 0x00124b00210b7124\n",
    "4号 0x00124b00210b7aaf\n",
    "'''\n",
    "device_id = '0x00124b00210b7ad9'\n",
    "set_properties(device_id,'state', data={\"state\":\"OFF\"})"
   ]
  },
  {
   "cell_type": "code",
   "execution_count": null,
   "metadata": {},
   "outputs": [],
   "source": [
    "# 同时控制多个设备 并发\n",
    "import concurrent.futures\n",
    "# def control_2_devices_immediately(device1,device2):\n",
    "executor = ThreadPoolExecutor(max_workers=2)\n",
    "# 同时关闭 2 个设备 0x00124b00210b7ad9 和 0x00124b00210b7a3d\n",
    "executor.submit(set_properties, '0x00124b00210b7ad9', 'state', {\"state\":\"OFF\"}) # 不等待\n",
    "executor.submit(set_properties, '0x00124b00210b7a3d', 'state', {\"state\":\"OFF\"})"
   ]
  },
  {
   "cell_type": "markdown",
   "metadata": {},
   "source": [
    "### 看不见的开关(可编程空间版本)"
   ]
  },
  {
   "cell_type": "code",
   "execution_count": null,
   "metadata": {},
   "outputs": [],
   "source": [
    "import cv2\n",
    "import mediapipe\n",
    "import pyautogui\n",
    "import time\n",
    "\n",
    "mp_drawing = mediapipe.solutions.drawing_utils\n",
    "mp_drawing_styles = mediapipe.solutions.drawing_styles\n",
    "mp_hands = mediapipe.solutions.hands\n",
    "\n",
    "\n",
    "# 获取摄像头\n",
    "cap = cv2.VideoCapture(0)\n",
    "with mp_hands.Hands(model_complexity=0,\n",
    "                    min_detection_confidence=0.5,  # confidence: 置信度，信心\n",
    "                    min_tracking_confidence=0.5) as hands:\n",
    "    \n",
    "    light_state = False\n",
    "    last_time = time.time()\n",
    "    while cap.isOpened():\n",
    "        success, image = cap.read()\n",
    "        if not success:\n",
    "            continue\n",
    "\n",
    "        # writeable 用于性能优化\n",
    "        image.flags.writeable = False\n",
    "        image = cv2.cvtColor(image, cv2.COLOR_BGR2RGB)\n",
    "        # 识别结果，手部信息都包含在 results 里\n",
    "        results = hands.process(image)\n",
    "\n",
    "        # 在图像上绘制额外信息.\n",
    "        image.flags.writeable = True\n",
    "        image = cv2.cvtColor(image, cv2.COLOR_RGB2BGR)\n",
    "        # landmark: 地标 特征点\n",
    "        if results.multi_hand_landmarks:\n",
    "            for hand_landmarks in results.multi_hand_landmarks:\n",
    "                \n",
    "                for id , lm in enumerate(hand_landmarks.landmark):\n",
    "                    h , w , c = image.shape \n",
    "                    # get the X,Y of a finger\n",
    "                    cx, cy = int(lm.x * w), int(lm.y * h)\n",
    "                    if id == 4:\n",
    "                        # 拇指坐标\n",
    "                        coordinates4 =  (cx, cy)\n",
    "                    if id == 8:\n",
    "                        # 食指坐标\n",
    "                        coordinates8 =  (cx, cy)\n",
    "            \n",
    "            try:\n",
    "                # 两个食指之间的距离\n",
    "                distance = abs(coordinates8[0] - coordinates4[0]) + abs(coordinates8[1] - coordinates4[1])\n",
    "                # 在食指显示与拇指的距离信息\n",
    "                cv2.putText(image, str(distance), (coordinates8[0], coordinates8[1]), cv2.FONT_HERSHEY_SIMPLEX, 1, (0,0,255),2, cv2.LINE_AA)\n",
    "                if distance < 50:\n",
    "                        # 如果两根手指靠近(捏一下🤏)\n",
    "                        if  time.time() - last_time > 1:\n",
    "                            last_time = time.time()\n",
    "                            # 改变灯的状态\n",
    "                            light_state = not light_state\n",
    "                            # cv2.circle(image , (200, 200), 50, (0, 165, 255), -1)\n",
    "                            if light_state:\n",
    "                                set_properties(device_id,'state', data={\"state\":\"ON\"})\n",
    "                                # todo 控制多盏灯\n",
    "                            else:\n",
    "                                set_properties(device_id,'state', data={\"state\":\"OFF\"})\n",
    "                                \n",
    "            except Exception as e:\n",
    "                print(e)\n",
    "                \n",
    "            # 根据灯的状态，显示出虚拟的灯\n",
    "            if light_state:\n",
    "                cv2.circle(image , (200, 200), 50, (0, 165, 255), -1)\n",
    "            else:\n",
    "                cv2.circle(image , (200, 200), 50, (128, 128, 128), -1)\n",
    "\n",
    "        # Flip the image horizontally for a selfie-view display.\n",
    "        cv2.imshow('MediaPipe Hands', image)  # cv2.flip(image, 1)\n",
    "        if cv2.waitKey(5) & 0xFF == 27:\n",
    "            break\n",
    "cap.release()"
   ]
  }
 ],
 "metadata": {
  "kernelspec": {
   "display_name": "Python 3 (ipykernel)",
   "language": "python",
   "name": "python3"
  },
  "language_info": {
   "codemirror_mode": {
    "name": "ipython",
    "version": 3
   },
   "file_extension": ".py",
   "mimetype": "text/x-python",
   "name": "python",
   "nbconvert_exporter": "python",
   "pygments_lexer": "ipython3",
   "version": "3.8.2"
  }
 },
 "nbformat": 4,
 "nbformat_minor": 4
}
